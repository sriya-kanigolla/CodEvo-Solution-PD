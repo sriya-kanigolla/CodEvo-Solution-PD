{
  "nbformat": 4,
  "nbformat_minor": 0,
  "metadata": {
    "colab": {
      "provenance": []
    },
    "kernelspec": {
      "name": "python3",
      "display_name": "Python 3"
    },
    "language_info": {
      "name": "python"
    }
  },
  "cells": [
    {
      "cell_type": "code",
      "execution_count": null,
      "metadata": {
        "colab": {
          "base_uri": "https://localhost:8080/"
        },
        "id": "zV9w2X6XGfYx",
        "outputId": "d48a8c3b-9c9c-4d41-a786-047915578505"
      },
      "outputs": [
        {
          "output_type": "stream",
          "name": "stdout",
          "text": [
            "Collecting python-telegram-bot\n",
            "  Downloading python_telegram_bot-21.6-py3-none-any.whl.metadata (17 kB)\n",
            "Collecting httpx~=0.27 (from python-telegram-bot)\n",
            "  Downloading httpx-0.27.2-py3-none-any.whl.metadata (7.1 kB)\n",
            "Requirement already satisfied: anyio in /usr/local/lib/python3.10/dist-packages (from httpx~=0.27->python-telegram-bot) (3.7.1)\n",
            "Requirement already satisfied: certifi in /usr/local/lib/python3.10/dist-packages (from httpx~=0.27->python-telegram-bot) (2024.8.30)\n",
            "Collecting httpcore==1.* (from httpx~=0.27->python-telegram-bot)\n",
            "  Downloading httpcore-1.0.6-py3-none-any.whl.metadata (21 kB)\n",
            "Requirement already satisfied: idna in /usr/local/lib/python3.10/dist-packages (from httpx~=0.27->python-telegram-bot) (3.10)\n",
            "Requirement already satisfied: sniffio in /usr/local/lib/python3.10/dist-packages (from httpx~=0.27->python-telegram-bot) (1.3.1)\n",
            "Collecting h11<0.15,>=0.13 (from httpcore==1.*->httpx~=0.27->python-telegram-bot)\n",
            "  Downloading h11-0.14.0-py3-none-any.whl.metadata (8.2 kB)\n",
            "Requirement already satisfied: exceptiongroup in /usr/local/lib/python3.10/dist-packages (from anyio->httpx~=0.27->python-telegram-bot) (1.2.2)\n",
            "Downloading python_telegram_bot-21.6-py3-none-any.whl (652 kB)\n",
            "\u001b[2K   \u001b[90m━━━━━━━━━━━━━━━━━━━━━━━━━━━━━━━━━━━━━━━━\u001b[0m \u001b[32m652.1/652.1 kB\u001b[0m \u001b[31m7.0 MB/s\u001b[0m eta \u001b[36m0:00:00\u001b[0m\n",
            "\u001b[?25hDownloading httpx-0.27.2-py3-none-any.whl (76 kB)\n",
            "\u001b[2K   \u001b[90m━━━━━━━━━━━━━━━━━━━━━━━━━━━━━━━━━━━━━━━━\u001b[0m \u001b[32m76.4/76.4 kB\u001b[0m \u001b[31m3.4 MB/s\u001b[0m eta \u001b[36m0:00:00\u001b[0m\n",
            "\u001b[?25hDownloading httpcore-1.0.6-py3-none-any.whl (78 kB)\n",
            "\u001b[2K   \u001b[90m━━━━━━━━━━━━━━━━━━━━━━━━━━━━━━━━━━━━━━━━\u001b[0m \u001b[32m78.0/78.0 kB\u001b[0m \u001b[31m3.1 MB/s\u001b[0m eta \u001b[36m0:00:00\u001b[0m\n",
            "\u001b[?25hDownloading h11-0.14.0-py3-none-any.whl (58 kB)\n",
            "\u001b[2K   \u001b[90m━━━━━━━━━━━━━━━━━━━━━━━━━━━━━━━━━━━━━━━━\u001b[0m \u001b[32m58.3/58.3 kB\u001b[0m \u001b[31m2.6 MB/s\u001b[0m eta \u001b[36m0:00:00\u001b[0m\n",
            "\u001b[?25hInstalling collected packages: h11, httpcore, httpx, python-telegram-bot\n",
            "Successfully installed h11-0.14.0 httpcore-1.0.6 httpx-0.27.2 python-telegram-bot-21.6\n"
          ]
        }
      ],
      "source": [
        "pip install python-telegram-bot"
      ]
    },
    {
      "cell_type": "code",
      "source": [
        "pip install nest_asyncio"
      ],
      "metadata": {
        "colab": {
          "base_uri": "https://localhost:8080/"
        },
        "id": "tLKNmM_tGtKd",
        "outputId": "895b2e4e-c9e5-4554-9486-e5f6d0672246"
      },
      "execution_count": null,
      "outputs": [
        {
          "output_type": "stream",
          "name": "stdout",
          "text": [
            "Requirement already satisfied: nest_asyncio in /usr/local/lib/python3.10/dist-packages (1.6.0)\n"
          ]
        }
      ]
    },
    {
      "cell_type": "code",
      "source": [
        "import nest_asyncio\n",
        "import asyncio\n",
        "from telegram import Update\n",
        "from telegram.ext import Application, CommandHandler, MessageHandler, filters, ContextTypes\n",
        "\n",
        "# Apply nest_asyncio to reuse the event loop\n",
        "nest_asyncio.apply()\n",
        "\n",
        "# Replace 'YOUR_TELEGRAM_BOT_API_TOKEN' with your token\n",
        "TOKEN = '7737050626:AAFxE8OeD8t3noV0f8y7tBspdX_hxsk2X9g'\n",
        "\n",
        "# Command handler for /start\n",
        "async def start(update: Update, context: ContextTypes.DEFAULT_TYPE):\n",
        "    await update.message.reply_text(\"Hello! Welcome to the bot. Type /help to see available commands.\")\n",
        "\n",
        "# Command handler for /help\n",
        "async def help_command(update: Update, context: ContextTypes.DEFAULT_TYPE):\n",
        "    help_text = (\n",
        "        \"/start - Start the bot\\n\"\n",
        "        \"/help - List of commands\\n\"\n",
        "        \"/echo - Echoes back your message\\n\"\n",
        "    )\n",
        "    await update.message.reply_text(help_text)\n",
        "\n",
        "# Echo handler to repeat the user's message\n",
        "async def echo(update: Update, context: ContextTypes.DEFAULT_TYPE):\n",
        "    user_message = update.message.text\n",
        "    await update.message.reply_text(f\"You said: {user_message}\")\n",
        "\n",
        "# Main function to set up the bot\n",
        "async def main():\n",
        "    # Create application and add handlers\n",
        "    application = Application.builder().token(TOKEN).build()\n",
        "\n",
        "    # Command handlers\n",
        "    application.add_handler(CommandHandler(\"start\", start))\n",
        "    application.add_handler(CommandHandler(\"help\", help_command))\n",
        "    application.add_handler(MessageHandler(filters.TEXT & ~filters.COMMAND, echo))\n",
        "\n",
        "    # Properly initialize the application and start polling\n",
        "    await application.initialize()\n",
        "    await application.start()\n",
        "    await application.updater.start_polling()\n",
        "\n",
        "# Run the bot in an interactive environment\n",
        "await main()"
      ],
      "metadata": {
        "id": "XzI1jjARG8Zf"
      },
      "execution_count": null,
      "outputs": []
    }
  ]
}