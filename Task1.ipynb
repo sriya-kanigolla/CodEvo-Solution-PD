{
  "nbformat": 4,
  "nbformat_minor": 0,
  "metadata": {
    "colab": {
      "provenance": []
    },
    "kernelspec": {
      "name": "python3",
      "display_name": "Python 3"
    },
    "language_info": {
      "name": "python"
    }
  },
  "cells": [
    {
      "cell_type": "code",
      "execution_count": null,
      "metadata": {
        "colab": {
          "base_uri": "https://localhost:8080/"
        },
        "id": "oFV6-8Dp5yw1",
        "outputId": "fb751d7f-d644-41e2-e018-8eb5203c12ab"
      },
      "outputs": [
        {
          "output_type": "stream",
          "name": "stdout",
          "text": [
            "Give lower bound:- 1\n",
            "Give upper bound:- 9\n",
            "You have max 5 chances\n"
          ]
        }
      ],
      "source": [
        "import random\n",
        "low=int(input(\"Give lower bound:- \"))\n",
        "high=int(input(\"Give upper bound:- \"))\n",
        "k=0\n",
        "k=random.randint(low, high)\n",
        "c=0\n",
        "print(\"You have max 5 chances\")\n",
        "while(c<=4):\n",
        "    n=int(input(\"Guess the number\"))\n",
        "    if n>k:\n",
        "        print(\"Try Again! You guessed too high\")\n",
        "    elif n<k:\n",
        "        print(\"Try Again! You guessed too small\")\n",
        "    elif n==k:\n",
        "        print(\"Congrats\")\n",
        "        break\n",
        "    c=c+1\n",
        "else:\n",
        "    print(\"Sorry you are running out of guesses.Better luck next time\")"
      ]
    }
  ]
}